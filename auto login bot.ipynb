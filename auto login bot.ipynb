{
 "cells": [
  {
   "cell_type": "code",
   "execution_count": 3,
   "id": "e7926f5b",
   "metadata": {},
   "outputs": [
    {
     "ename": "ModuleNotFoundError",
     "evalue": "No module named 'selenium'",
     "output_type": "error",
     "traceback": [
      "\u001b[1;31m---------------------------------------------------------------------------\u001b[0m",
      "\u001b[1;31mModuleNotFoundError\u001b[0m                       Traceback (most recent call last)",
      "Cell \u001b[1;32mIn[3], line 2\u001b[0m\n\u001b[0;32m      1\u001b[0m \u001b[38;5;66;03m# Used to import the webdriver from selenium\u001b[39;00m\n\u001b[1;32m----> 2\u001b[0m \u001b[38;5;28;01mfrom\u001b[39;00m \u001b[38;5;21;01mselenium\u001b[39;00m \u001b[38;5;28;01mimport\u001b[39;00m webdriver \n\u001b[0;32m      3\u001b[0m \u001b[38;5;28;01mimport\u001b[39;00m \u001b[38;5;21;01mos\u001b[39;00m\n\u001b[0;32m      5\u001b[0m \u001b[38;5;66;03m# Get the path of chromedriver which you have install\u001b[39;00m\n",
      "\u001b[1;31mModuleNotFoundError\u001b[0m: No module named 'selenium'"
     ]
    }
   ],
   "source": [
    "# Used to import the webdriver from selenium\n",
    "from selenium import webdriver \n",
    "import os\n",
    "\n",
    "# Get the path of chromedriver which you have install\n",
    "\n",
    "def startBot(username, password, url):\n",
    "\tpath = \"C:\\\\Users\\\\hp\\\\Downloads\\\\chromedriver\"\n",
    "\t\n",
    "\t# giving the path of chromedriver to selenium webdriver\n",
    "\tdriver = webdriver.Chrome(path)\n",
    "\t\n",
    "\t# opening the website in chrome.\n",
    "\tdriver.get(url)\n",
    "\t\n",
    "\t# find the id or name or class of\n",
    "\t# username by inspecting on username input\n",
    "\tdriver.find_element_by_name(\n",
    "\t\t\"id/class/name of username\").send_keys(username)\n",
    "\t\n",
    "\t# find the password by inspecting on password input\n",
    "\tdriver.find_element_by_name(\n",
    "\t\t\"id/class/name of password\").send_keys(password)\n",
    "\t\n",
    "\t# click on submit\n",
    "\tdriver.find_element_by_css_selector(\n",
    "\t\t\"id/class/name/css selector of login button\").click()\n",
    "\n",
    "\n",
    "# Driver Code\n",
    "# Enter below your login credentials\n",
    "username = \"Enter your username\"\n",
    "password = \"Enter your password\"\n",
    "\n",
    "# URL of the login page of site\n",
    "# which you want to automate login.\n",
    "url = \"Enter the URL of login page of website\"\n",
    "\n",
    "# Call the function\n",
    "startBot(username, password, url)\n"
   ]
  },
  {
   "cell_type": "code",
   "execution_count": null,
   "id": "f541d709",
   "metadata": {},
   "outputs": [],
   "source": []
  }
 ],
 "metadata": {
  "kernelspec": {
   "display_name": "Python 3 (ipykernel)",
   "language": "python",
   "name": "python3"
  },
  "language_info": {
   "codemirror_mode": {
    "name": "ipython",
    "version": 3
   },
   "file_extension": ".py",
   "mimetype": "text/x-python",
   "name": "python",
   "nbconvert_exporter": "python",
   "pygments_lexer": "ipython3",
   "version": "3.11.5"
  }
 },
 "nbformat": 4,
 "nbformat_minor": 5
}
