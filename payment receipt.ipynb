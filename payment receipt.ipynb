{
 "cells": [
  {
   "cell_type": "code",
   "execution_count": 1,
   "id": "ac1b5057",
   "metadata": {},
   "outputs": [
    {
     "ename": "ModuleNotFoundError",
     "evalue": "No module named 'reportlab'",
     "output_type": "error",
     "traceback": [
      "\u001b[1;31m---------------------------------------------------------------------------\u001b[0m",
      "\u001b[1;31mModuleNotFoundError\u001b[0m                       Traceback (most recent call last)",
      "Cell \u001b[1;32mIn[1], line 2\u001b[0m\n\u001b[0;32m      1\u001b[0m \u001b[38;5;66;03m# imports module \u001b[39;00m\n\u001b[1;32m----> 2\u001b[0m \u001b[38;5;28;01mfrom\u001b[39;00m \u001b[38;5;21;01mreportlab\u001b[39;00m\u001b[38;5;21;01m.\u001b[39;00m\u001b[38;5;21;01mplatypus\u001b[39;00m \u001b[38;5;28;01mimport\u001b[39;00m SimpleDocTemplate, Table, Paragraph, TableStyle \n\u001b[0;32m      3\u001b[0m \u001b[38;5;28;01mfrom\u001b[39;00m \u001b[38;5;21;01mreportlab\u001b[39;00m\u001b[38;5;21;01m.\u001b[39;00m\u001b[38;5;21;01mlib\u001b[39;00m \u001b[38;5;28;01mimport\u001b[39;00m colors \n\u001b[0;32m      4\u001b[0m \u001b[38;5;28;01mfrom\u001b[39;00m \u001b[38;5;21;01mreportlab\u001b[39;00m\u001b[38;5;21;01m.\u001b[39;00m\u001b[38;5;21;01mlib\u001b[39;00m\u001b[38;5;21;01m.\u001b[39;00m\u001b[38;5;21;01mpagesizes\u001b[39;00m \u001b[38;5;28;01mimport\u001b[39;00m A4 \n",
      "\u001b[1;31mModuleNotFoundError\u001b[0m: No module named 'reportlab'"
     ]
    }
   ],
   "source": [
    "# imports module \n",
    "from reportlab.platypus import SimpleDocTemplate, Table, Paragraph, TableStyle \n",
    "from reportlab.lib import colors \n",
    "from reportlab.lib.pagesizes import A4 \n",
    "from reportlab.lib.styles import getSampleStyleSheet \n",
    "\n",
    "# data which we are going to display as tables \n",
    "DATA = [ \n",
    "\t[ \"Date\" , \"Name\", \"Subscription\", \"Price (Rs.)\" ], \n",
    "\t[ \n",
    "\t\t\"16/11/2020\", \n",
    "\t\t\"Full Stack Development with React & Node JS - Live\", \n",
    "\t\t\"Lifetime\", \n",
    "\t\t\"10,999.00/-\", \n",
    "\t], \n",
    "\t[ \"16/11/2020\", \"Geeks Classes: Live Session\", \"6 months\", \"9,999.00/-\"], \n",
    "\t[ \"Sub Total\", \"\", \"\", \"20,9998.00/-\"], \n",
    "\t[ \"Discount\", \"\", \"\", \"-3,000.00/-\"], \n",
    "\t[ \"Total\", \"\", \"\", \"17,998.00/-\"], \n",
    "] \n",
    "\n",
    "# creating a Base Document Template of page size A4 \n",
    "pdf = SimpleDocTemplate( \"receipt.pdf\" , pagesize = A4 ) \n",
    "\n",
    "# standard stylesheet defined within reportlab itself \n",
    "styles = getSampleStyleSheet() \n",
    "\n",
    "# fetching the style of Top level heading (Heading1) \n",
    "title_style = styles[ \"Heading1\" ] \n",
    "\n",
    "# 0: left, 1: center, 2: right \n",
    "title_style.alignment = 1\n",
    "\n",
    "# creating the paragraph with \n",
    "# the heading text and passing the styles of it \n",
    "title = Paragraph( \"GeeksforGeeks\" , title_style ) \n",
    "\n",
    "# creates a Table Style object and in it, \n",
    "# defines the styles row wise \n",
    "# the tuples which look like coordinates \n",
    "# are nothing but rows and columns \n",
    "style = TableStyle( \n",
    "\t[ \n",
    "\t\t( \"BOX\" , ( 0, 0 ), ( -1, -1 ), 1 , colors.black ), \n",
    "\t\t( \"GRID\" , ( 0, 0 ), ( 4 , 4 ), 1 , colors.black ), \n",
    "\t\t( \"BACKGROUND\" , ( 0, 0 ), ( 3, 0 ), colors.gray ), \n",
    "\t\t( \"TEXTCOLOR\" , ( 0, 0 ), ( -1, 0 ), colors.whitesmoke ), \n",
    "\t\t( \"ALIGN\" , ( 0, 0 ), ( -1, -1 ), \"CENTER\" ), \n",
    "\t\t( \"BACKGROUND\" , ( 0 , 1 ) , ( -1 , -1 ), colors.beige ), \n",
    "\t] \n",
    ") \n",
    "\n",
    "# creates a table object and passes the style to it \n",
    "table = Table( DATA , style = style ) \n",
    "\n",
    "# final step which builds the \n",
    "# actual pdf putting together all the elements \n",
    "pdf.build([ title , table ]) \n"
   ]
  },
  {
   "cell_type": "code",
   "execution_count": null,
   "id": "b2a6b3c8",
   "metadata": {},
   "outputs": [],
   "source": []
  }
 ],
 "metadata": {
  "kernelspec": {
   "display_name": "Python 3 (ipykernel)",
   "language": "python",
   "name": "python3"
  },
  "language_info": {
   "codemirror_mode": {
    "name": "ipython",
    "version": 3
   },
   "file_extension": ".py",
   "mimetype": "text/x-python",
   "name": "python",
   "nbconvert_exporter": "python",
   "pygments_lexer": "ipython3",
   "version": "3.11.5"
  }
 },
 "nbformat": 4,
 "nbformat_minor": 5
}
