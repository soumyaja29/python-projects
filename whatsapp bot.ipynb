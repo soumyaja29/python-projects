{
 "cells": [
  {
   "cell_type": "code",
   "execution_count": null,
   "id": "799d868b",
   "metadata": {},
   "outputs": [],
   "source": [
    "from flask import Flask\n",
    "from googlesearch import search\n",
    "import requests\n",
    "from twilio.twiml.messaging_response import MessagingResponse\n",
    "\n",
    "\n",
    "app = Flask(__name__)\n",
    "\n",
    "@app.route(\"/\", methods=[\"POST\"])\n",
    "\n",
    "# chatbot logic\n",
    "def bot():\n",
    "\n",
    "\t# user input\n",
    "\tuser_msg = request.values.get('Body', '').lower()\n",
    "\n",
    "\t# creating object of MessagingResponse\n",
    "\tresponse = MessagingResponse()\n",
    "\n",
    "\t# User Query\n",
    "\tq = user_msg + \"geeksforgeeks.org\"\n",
    "\n",
    "\t# list to store urls\n",
    "\tresult = []\n",
    "\n",
    "\t# searching and storing urls\n",
    "\tfor i in search(q, num_results=3):\n",
    "\t\tresult.append(i)\n",
    "\n",
    "\t# displaying result\n",
    "\tmsg = response.message(f\"--- Results for '{user_msg}' ---\")\n",
    "\tfor result in search_results:\n",
    "\t\tmsg = response.message(result)\n",
    "\n",
    "\treturn str(response)\n",
    "\n",
    "\n",
    "if __name__ == \"__main__\":\n",
    "\tapp.run()\n"
   ]
  }
 ],
 "metadata": {
  "kernelspec": {
   "display_name": "Python 3 (ipykernel)",
   "language": "python",
   "name": "python3"
  },
  "language_info": {
   "codemirror_mode": {
    "name": "ipython",
    "version": 3
   },
   "file_extension": ".py",
   "mimetype": "text/x-python",
   "name": "python",
   "nbconvert_exporter": "python",
   "pygments_lexer": "ipython3",
   "version": "3.11.5"
  }
 },
 "nbformat": 4,
 "nbformat_minor": 5
}
